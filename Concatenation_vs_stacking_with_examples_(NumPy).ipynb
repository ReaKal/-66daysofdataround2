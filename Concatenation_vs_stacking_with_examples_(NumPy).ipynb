{
 "cells": [
  {
   "cell_type": "markdown",
   "metadata": {},
   "source": [
    "# Joining tables in Numpy\n",
    "This notebook uses a simple use case to understand and practice NumPy methods (concatenate, vstack and hstack) for joining tables."
   ]
  },
  {
   "cell_type": "markdown",
   "metadata": {},
   "source": [
    "## Store information in np arrays\n",
    "Let's say that we work for a sports academy that trains young athletes. Two of academy's athletes are 100m runners.\n",
    "We have used a numpy array to store the numbers that represent the performance of each athlete in seconds for the last four races they have participated in."
   ]
  },
  {
   "cell_type": "code",
   "execution_count": 1,
   "metadata": {
    "id": "tOPTXFYFuVzw"
   },
   "outputs": [],
   "source": [
    "import numpy as np"
   ]
  },
  {
   "cell_type": "code",
   "execution_count": 2,
   "metadata": {
    "id": "j_1XUhycubYD"
   },
   "outputs": [],
   "source": [
    "# create two arrays to store the performance (in sec) of the two athletes on 4 races of 100m running \n",
    "athlete1 = np.array([13.00, 12.55, 12.35, 11.55])\n",
    "athlete2 = np.array([12.40, 12.35, 12.30, 12.05])"
   ]
  },
  {
   "cell_type": "markdown",
   "metadata": {},
   "source": [
    "## Stack np arrays"
   ]
  },
  {
   "cell_type": "markdown",
   "metadata": {},
   "source": [
    "Next, we want to create a table (matrix) to store the information about both athletes' performance. \n",
    "- In the first table that we want to make, we want each row to represent a different athlete.\n",
    "- In the second table that we want to make, we want each row to represent a different race."
   ]
  },
  {
   "cell_type": "code",
   "execution_count": 3,
   "metadata": {
    "colab": {
     "base_uri": "https://localhost:8080/"
    },
    "id": "9FMF6kzyu0EJ",
    "outputId": "d69cb566-b961-475e-c70c-057a1e7a66c8"
   },
   "outputs": [
    {
     "name": "stdout",
     "output_type": "stream",
     "text": [
      "[[13.   12.55 12.35 11.55]\n",
      " [12.4  12.35 12.3  12.05]]\n"
     ]
    }
   ],
   "source": [
    "# combine athlete1 and athlete2 arrays using vertical stacking\n",
    "athletes_matrix = np.vstack((athlete1, athlete2))\n",
    "print(athletes_matrix)"
   ]
  },
  {
   "cell_type": "code",
   "execution_count": 4,
   "metadata": {
    "colab": {
     "base_uri": "https://localhost:8080/"
    },
    "id": "gIHghjo-wuri",
    "outputId": "c7f94e4a-b7a2-4350-dd46-20535b70f591"
   },
   "outputs": [
    {
     "name": "stdout",
     "output_type": "stream",
     "text": [
      "Using column-wise stacking\n",
      "[[13.   12.4 ]\n",
      " [12.55 12.35]\n",
      " [12.35 12.3 ]\n",
      " [11.55 12.05]]\n",
      "Using transpose and horizontal stacking\n",
      "[[13.   12.4 ]\n",
      " [12.55 12.35]\n",
      " [12.35 12.3 ]\n",
      " [11.55 12.05]]\n"
     ]
    }
   ],
   "source": [
    "# combine athlete1 and athlete2 arrays using column-wise stacking\n",
    "races_matrix = np.c_[athlete1, athlete2]\n",
    "print(\"Using column-wise stacking\")\n",
    "print(races_matrix)\n",
    "\n",
    "# combine athlete1 and athlete2 arrays using horizontal stacking\n",
    "athlete1_trans = athlete1.reshape(-1,1)\n",
    "athlete2_trans = athlete2.reshape(-1,1)\n",
    "races_matrix1 = np.hstack((athlete1_trans, athlete2_trans))\n",
    "print(\"Using transpose and horizontal stacking\")\n",
    "print(races_matrix1)"
   ]
  },
  {
   "cell_type": "markdown",
   "metadata": {},
   "source": [
    "We used stacking to combine athlete1 and athlete2 into athletes_matrix and races_matrix. In athletes_matrix each row represents an athlete (and as a consequence each column represents a race). In races_matrix each row represents a race (and as a consequence each column represents an athlete). \n",
    "\n",
    "In both cases, we used two 1d-arrays to create one 2d-array. Vertical stacking helped us placing the arrays the one under the other and horizontal stacking helped us placing the arrays the one next to the other. Note that stacking have combined the arrays by adding one more dimension to the new array."
   ]
  },
  {
   "cell_type": "markdown",
   "metadata": {},
   "source": [
    "## Concatenate np arrays"
   ]
  },
  {
   "cell_type": "markdown",
   "metadata": {},
   "source": [
    "For another project, we create two arrays to store the performance of one athlete during two different seasons (4 races in each season)."
   ]
  },
  {
   "cell_type": "code",
   "execution_count": 5,
   "metadata": {
    "id": "N1kh92KKxhjs"
   },
   "outputs": [],
   "source": [
    "# create another two arrays to store the performance of one athlete during two different sport seasons\n",
    "season1 = np.array([13.00, 12.45, 12.35, 11.50])\n",
    "season2 = np.array([12.50, 12.35, 12.10, 12.05])"
   ]
  },
  {
   "cell_type": "markdown",
   "metadata": {},
   "source": [
    "It is very possible we need to analyze the overall progress of the athlete. For that, we need at first to store the information of both seasons in one array."
   ]
  },
  {
   "cell_type": "code",
   "execution_count": 6,
   "metadata": {
    "colab": {
     "base_uri": "https://localhost:8080/"
    },
    "id": "i13Th_FLyCxU",
    "outputId": "1059d966-399a-4ba2-d845-b0e4606e28c1"
   },
   "outputs": [
    {
     "name": "stdout",
     "output_type": "stream",
     "text": [
      "[13.   12.45 12.35 11.5  12.5  12.35 12.1  12.05]\n"
     ]
    }
   ],
   "source": [
    "# combine season1 and season2 arrays using concatenation\n",
    "two_years_performance = np.concatenate((season1, season2))\n",
    "print(two_years_performance)"
   ]
  },
  {
   "cell_type": "markdown",
   "metadata": {},
   "source": [
    "We used concatenation to create two_years_performance matrix. Concatetation has helped us combine the two arrays without adding a new dimension to the new array. In simple words, the first array seems to be appended with the content of the second array. The two arrays before concatenation are 1-dimensional, so it is the new array after concatenation."
   ]
  },
  {
   "cell_type": "markdown",
   "metadata": {
    "id": "af6U8sMS4JsZ"
   },
   "source": [
    "## Add new athletes"
   ]
  },
  {
   "cell_type": "markdown",
   "metadata": {},
   "source": [
    "Let's come to the athletes_matrix and races_matrix that we have created to store the performance of our athletes in 4 races. Imagine that two more athletes are getting added to our training team and we want to include their performance in athletes_matrix and races_matrix."
   ]
  },
  {
   "cell_type": "code",
   "execution_count": 7,
   "metadata": {
    "colab": {
     "base_uri": "https://localhost:8080/"
    },
    "id": "xVP45vyS0Ad7",
    "outputId": "9b39c814-fbb2-4b4c-8893-4e83e66f8987"
   },
   "outputs": [
    {
     "name": "stdout",
     "output_type": "stream",
     "text": [
      "new athletes\n",
      " [[12.4  12.45 13.1  12.3 ]\n",
      " [12.5  13.   12.2  12.15]]\n"
     ]
    }
   ],
   "source": [
    "# create new_athletes array to store the perfomance of the new athletes for the last 4 races\n",
    "new_athletes = np.array([[12.4, 12.45, 13.10, 12.30], [12.5, 13.00, 12.20, 12.15]])\n",
    "print(\"new athletes\\n\", new_athletes)"
   ]
  },
  {
   "cell_type": "code",
   "execution_count": 21,
   "metadata": {
    "colab": {
     "base_uri": "https://localhost:8080/"
    },
    "id": "0lR1EIy808s9",
    "outputId": "0795f6bf-c62f-4626-d0de-b54bc72af77d"
   },
   "outputs": [
    {
     "name": "stdout",
     "output_type": "stream",
     "text": [
      "Join athletes_matrix and new_athletes\n",
      "--Using concatenation\n",
      " [[13.   12.55 12.35 11.55]\n",
      " [12.4  12.35 12.3  12.05]\n",
      " [12.4  12.45 13.1  12.3 ]\n",
      " [12.5  13.   12.2  12.15]]\n",
      "--Using vstack\n",
      " [[13.   12.55 12.35 11.55]\n",
      " [12.4  12.35 12.3  12.05]\n",
      " [12.4  12.45 13.1  12.3 ]\n",
      " [12.5  13.   12.2  12.15]]\n"
     ]
    }
   ],
   "source": [
    "# join athletes_matrix and new_athletes matrices\n",
    "print(\"Join athletes_matrix and new_athletes\")\n",
    "\n",
    "# concatenate athletes_matrix and new_athletes \n",
    "athletes_matrix_new = np.concatenate((athletes_matrix, new_athletes), axis=0)\n",
    "print(\"--Using concatenation\\n\", athletes_matrix_new)\n",
    "\n",
    "athletes_matrix_new = np.vstack((athletes_matrix, new_athletes))\n",
    "print(\"--Using vstack\\n\", athletes_matrix_new)"
   ]
  },
  {
   "cell_type": "markdown",
   "metadata": {},
   "source": [
    "We have used two different numpy functions (concatenate, vstack) to join athletes_matrix and new_athletes in athletes_matrix_new. Both approaches gave the same result. \n",
    "\n",
    "athletes_matrix_new includes the performace of our team's athletes (new athletes included). Each row in the athletes_matrix_new represent an athlete (and each column a different race). "
   ]
  },
  {
   "cell_type": "code",
   "execution_count": 31,
   "metadata": {
    "colab": {
     "base_uri": "https://localhost:8080/"
    },
    "id": "0Kf12kVl1mEu",
    "outputId": "2748be40-8aac-4a4f-f741-4ebed2c51202"
   },
   "outputs": [
    {
     "name": "stdout",
     "output_type": "stream",
     "text": [
      "Join races_matrix and new_athletes\n",
      "--horizontal stacking\n",
      " [[13.   12.4  12.4  12.5 ]\n",
      " [12.55 12.35 12.45 13.  ]\n",
      " [12.35 12.3  13.1  12.2 ]\n",
      " [11.55 12.05 12.3  12.15]]\n",
      "--column-wise stacking\n",
      " [[13.   12.4  12.4  12.5 ]\n",
      " [12.55 12.35 12.45 13.  ]\n",
      " [12.35 12.3  13.1  12.2 ]\n",
      " [11.55 12.05 12.3  12.15]]\n",
      "--concatenate, axis=1\n",
      " [[13.   12.4  12.4  12.5 ]\n",
      " [12.55 12.35 12.45 13.  ]\n",
      " [12.35 12.3  13.1  12.2 ]\n",
      " [11.55 12.05 12.3  12.15]]\n"
     ]
    }
   ],
   "source": [
    "# join races_matrix and new_athletes matrices\n",
    "print(\"Join races_matrix and new_athletes\")\n",
    "\n",
    "# traspose new_athletes\n",
    "new_athletes_transposed = new_athletes.T\n",
    "\n",
    "# stack horizontally races_matrix and new_athletes_transposed\n",
    "races_matrix_new = np.hstack((races_matrix, new_athletes_transposed))\n",
    "print(\"--horizontal stacking\\n\", races_matrix_new)\n",
    "\n",
    "# stack column-wise races_matrix and new_athletes_transposed\n",
    "races_matrix_new = np.c_[races_matrix, new_athletes_transposed]\n",
    "print(\"--column-wise stacking\\n\", races_matrix_new)\n",
    "\n",
    "# concatenate races_matrix and new_athletes_transposed, using axis=1\n",
    "races_matrix_new = np.concatenate((races_matrix, new_athletes_transposed), axis=1)\n",
    "print(\"--concatenate, axis=1\\n\", races_matrix_new)"
   ]
  },
  {
   "cell_type": "markdown",
   "metadata": {},
   "source": [
    "Notice that for joining races_matrix and new_athletes, we need to traspose the new_athletes matrix. We need to change the number of rows of new_athletes to match the number of rows of races_matrix. This transformation is necessary in order to join races_matrix and new_athletes along the horizontal axis (axis=1). We use traspose method on new_athletes, that turns the rows into columns and columns into rows ((2,4) => (4,2)).\n",
    "\n",
    "We have used three different NumPy methods (hstack, column_stack, concatenate) to perform the join. All of the methods gave the same result.\n",
    "\n",
    "athletes_races_new includes the performace of our team's athletes (new athletes included). Each row in the races_matrix_new represent a race (and each column a different athlete). "
   ]
  }
 ],
 "metadata": {
  "colab": {
   "collapsed_sections": [],
   "name": "Concatenation vs stacking with examples (NumPy).ipynb",
   "provenance": []
  },
  "kernelspec": {
   "display_name": "Python 3",
   "language": "python",
   "name": "python3"
  },
  "language_info": {
   "codemirror_mode": {
    "name": "ipython",
    "version": 3
   },
   "file_extension": ".py",
   "mimetype": "text/x-python",
   "name": "python",
   "nbconvert_exporter": "python",
   "pygments_lexer": "ipython3",
   "version": "3.8.5"
  },
  "toc": {
   "base_numbering": 1,
   "nav_menu": {},
   "number_sections": true,
   "sideBar": true,
   "skip_h1_title": false,
   "title_cell": "Table of Contents",
   "title_sidebar": "Contents",
   "toc_cell": false,
   "toc_position": {},
   "toc_section_display": true,
   "toc_window_display": false
  }
 },
 "nbformat": 4,
 "nbformat_minor": 1
}
